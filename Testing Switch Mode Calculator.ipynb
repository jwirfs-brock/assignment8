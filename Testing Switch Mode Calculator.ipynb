{
 "cells": [
  {
   "cell_type": "markdown",
   "metadata": {},
   "source": [
    "## Switch mode user testing\n",
    "This script generates a set of eight equations to use in the switch-control calculator test. Then there's some code to import and analyze the data from the user tests."
   ]
  },
  {
   "cell_type": "code",
   "execution_count": 61,
   "metadata": {
    "collapsed": true
   },
   "outputs": [],
   "source": [
    "import pandas as pd\n",
    "import matplotlib.pyplot as plt\n",
    "% matplotlib inline\n",
    "import numpy as np\n",
    "import datetime\n",
    "import seaborn as sns\n",
    "import random\n"
   ]
  },
  {
   "cell_type": "markdown",
   "metadata": {},
   "source": [
    "### Generate random equations for user tests"
   ]
  },
  {
   "cell_type": "code",
   "execution_count": 74,
   "metadata": {
    "collapsed": true
   },
   "outputs": [],
   "source": [
    "# Create a set of operators corresponding to keys on the calculator\n",
    "operators_list = [\"+\", \"-\",\"*\",\"/\"]"
   ]
  },
  {
   "cell_type": "code",
   "execution_count": 50,
   "metadata": {
    "collapsed": true
   },
   "outputs": [],
   "source": [
    "# Simple equations have just two numbers and one operator\n",
    "# Both numbers are two-digits (random integer from 1 to 99)\n",
    "def simple_equation():\n",
    "    print (str(random.randint(1,99)) + \" \" + random.choice(operators_list) + \" \" + str(random.randint(1,99)))"
   ]
  },
  {
   "cell_type": "code",
   "execution_count": 51,
   "metadata": {
    "collapsed": false
   },
   "outputs": [],
   "source": [
    "# Complex equations have three numbers and two operators\n",
    "# One of the numbers is three-digits (random integer from 1 to 999)\n",
    "def complex_equation():\n",
    "    print(str(random.randint(1,99)) + \" \" + random.choice(operators_list) + \" \" + str(random.randint(1,999)) + \" \" + random.choice(operators_list) + \" \" + str(random.randint(1,99)))"
   ]
  },
  {
   "cell_type": "code",
   "execution_count": 52,
   "metadata": {
    "collapsed": true
   },
   "outputs": [],
   "source": [
    "# This function creates four simple equations and four complex equations\n",
    "def generate_equation_list():\n",
    "    for i in range(4):\n",
    "        simple_equation()\n",
    "    for i in range(4):\n",
    "        complex_equation()"
   ]
  },
  {
   "cell_type": "code",
   "execution_count": 53,
   "metadata": {
    "collapsed": false
   },
   "outputs": [
    {
     "name": "stdout",
     "output_type": "stream",
     "text": [
      "67 * 16\n",
      "95 - 40\n",
      "54 * 55\n",
      "8 + 66\n",
      "39 - 559 / 81\n",
      "93 + 262 - 85\n",
      "47 * 823 * 16\n",
      "93 - 330 * 71\n"
     ]
    }
   ],
   "source": [
    "# Call the generator function\n",
    "generate_equation_list()"
   ]
  },
  {
   "cell_type": "markdown",
   "metadata": {},
   "source": [
    "### Analyzing the test data"
   ]
  },
  {
   "cell_type": "code",
   "execution_count": 62,
   "metadata": {
    "collapsed": true
   },
   "outputs": [],
   "source": [
    "# Import the data I collected\n",
    "df = pd.read_csv('test-data.csv')"
   ]
  },
  {
   "cell_type": "code",
   "execution_count": 63,
   "metadata": {
    "collapsed": false
   },
   "outputs": [
    {
     "data": {
      "text/html": [
       "<div>\n",
       "<table border=\"1\" class=\"dataframe\">\n",
       "  <thead>\n",
       "    <tr style=\"text-align: right;\">\n",
       "      <th></th>\n",
       "      <th>Condition</th>\n",
       "      <th>Time Step (milliseconds)</th>\n",
       "      <th>Total Time (seconds)</th>\n",
       "      <th>Number of Errors</th>\n",
       "    </tr>\n",
       "  </thead>\n",
       "  <tbody>\n",
       "    <tr>\n",
       "      <th>0</th>\n",
       "      <td>B</td>\n",
       "      <td>500</td>\n",
       "      <td>397.82</td>\n",
       "      <td>1</td>\n",
       "    </tr>\n",
       "    <tr>\n",
       "      <th>1</th>\n",
       "      <td>A</td>\n",
       "      <td>300</td>\n",
       "      <td>312.21</td>\n",
       "      <td>12</td>\n",
       "    </tr>\n",
       "    <tr>\n",
       "      <th>2</th>\n",
       "      <td>C</td>\n",
       "      <td>700</td>\n",
       "      <td>473.82</td>\n",
       "      <td>1</td>\n",
       "    </tr>\n",
       "    <tr>\n",
       "      <th>3</th>\n",
       "      <td>C</td>\n",
       "      <td>700</td>\n",
       "      <td>470.55</td>\n",
       "      <td>0</td>\n",
       "    </tr>\n",
       "    <tr>\n",
       "      <th>4</th>\n",
       "      <td>A</td>\n",
       "      <td>300</td>\n",
       "      <td>472.49</td>\n",
       "      <td>14</td>\n",
       "    </tr>\n",
       "    <tr>\n",
       "      <th>5</th>\n",
       "      <td>B</td>\n",
       "      <td>500</td>\n",
       "      <td>360.23</td>\n",
       "      <td>1</td>\n",
       "    </tr>\n",
       "    <tr>\n",
       "      <th>6</th>\n",
       "      <td>A</td>\n",
       "      <td>300</td>\n",
       "      <td>283.12</td>\n",
       "      <td>4</td>\n",
       "    </tr>\n",
       "    <tr>\n",
       "      <th>7</th>\n",
       "      <td>C</td>\n",
       "      <td>700</td>\n",
       "      <td>441.99</td>\n",
       "      <td>0</td>\n",
       "    </tr>\n",
       "    <tr>\n",
       "      <th>8</th>\n",
       "      <td>B</td>\n",
       "      <td>500</td>\n",
       "      <td>403.06</td>\n",
       "      <td>3</td>\n",
       "    </tr>\n",
       "  </tbody>\n",
       "</table>\n",
       "</div>"
      ],
      "text/plain": [
       "  Condition  Time Step (milliseconds)  Total Time (seconds)  Number of Errors\n",
       "0         B                       500                397.82                 1\n",
       "1         A                       300                312.21                12\n",
       "2         C                       700                473.82                 1\n",
       "3         C                       700                470.55                 0\n",
       "4         A                       300                472.49                14\n",
       "5         B                       500                360.23                 1\n",
       "6         A                       300                283.12                 4\n",
       "7         C                       700                441.99                 0\n",
       "8         B                       500                403.06                 3"
      ]
     },
     "execution_count": 63,
     "metadata": {},
     "output_type": "execute_result"
    }
   ],
   "source": [
    "# Lets take a look at it\n",
    "df"
   ]
  },
  {
   "cell_type": "code",
   "execution_count": 78,
   "metadata": {
    "collapsed": false
   },
   "outputs": [
    {
     "data": {
      "image/png": "[encoded data removed]",
      "text/plain": [
       "<matplotlib.figure.Figure at 0x11151ee48>"
      ]
     },
     "metadata": {},
     "output_type": "display_data"
    }
   ],
   "source": [
    "# Plot the time it takes to do each test, by condition of time interval\n",
    "fig, ax = plt.subplots()\n",
    "sns.set_style(\"whitegrid\")\n",
    "fig.set_size_inches(10, 7)\n",
    "ax.set_ylim([0, 500])\n",
    "#ax = sns.violinplot(x=\"Major\", y = \"Perc_F_majors\", data=ungrouped, linewidth=0.5, order= [\"Engineering\"], scale = \"count\", color = \"#E0E0E0\", width=0.9, cut=0, saturation = 0.7)\n",
    "ax = sns.swarmplot(data= df, x=\"Time Step (milliseconds)\", y=\"Total Time (seconds)\", size=10)"
   ]
  },
  {
   "cell_type": "code",
   "execution_count": 73,
   "metadata": {
    "collapsed": false
   },
   "outputs": [
    {
     "data": {
      "image/png": "[encoded data removed]",
      "text/plain": [
       "<matplotlib.figure.Figure at 0x111a304e0>"
      ]
     },
     "metadata": {},
     "output_type": "display_data"
    }
   ],
   "source": [
    "fig, ax = plt.subplots()\n",
    "sns.set_style(\"whitegrid\")\n",
    "fig.set_size_inches(10, 7)\n",
    "#ax.set_ylim([-0.1, 1.1])\n",
    "#ax = sns.violinplot(x=\"Major\", y = \"Perc_F_majors\", data=ungrouped, linewidth=0.5, order= [\"Engineering\"], scale = \"count\", color = \"#E0E0E0\", width=0.9, cut=0, saturation = 0.7)\n",
    "ax = sns.swarmplot(data= df, x=\"Time Step (milliseconds)\", y=\"Number of Errors\", size=10)"
   ]
  }
 ],
 "metadata": {
  "kernelspec": {
   "display_name": "Python 3",
   "language": "python",
   "name": "python3"
  },
  "language_info": {
   "codemirror_mode": {
    "name": "ipython",
    "version": 3
   },
   "file_extension": ".py",
   "mimetype": "text/x-python",
   "name": "python",
   "nbconvert_exporter": "python",
   "pygments_lexer": "ipython3",
   "version": "3.6.0"
  }
 },
 "nbformat": 4,
 "nbformat_minor": 2
}
